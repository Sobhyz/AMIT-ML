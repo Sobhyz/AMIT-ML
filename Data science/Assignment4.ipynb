{
 "cells": [
  {
   "cell_type": "code",
   "execution_count": 1,
   "metadata": {},
   "outputs": [
    {
     "data": {
      "text/plain": [
       "0    1\n",
       "1    2\n",
       "2    3\n",
       "3    4\n",
       "4    5\n",
       "dtype: int64"
      ]
     },
     "execution_count": 1,
     "metadata": {},
     "output_type": "execute_result"
    }
   ],
   "source": [
    "import pandas as pd\n",
    "import numpy as np\n",
    "\n",
    "lis = eval(input())\n",
    "pdList = pd.Series(lis)\n",
    "pdList"
   ]
  },
  {
   "cell_type": "code",
   "execution_count": 2,
   "metadata": {},
   "outputs": [
    {
     "name": "stdout",
     "output_type": "stream",
     "text": [
      "int64"
     ]
    },
    {
     "data": {
      "text/plain": [
       "[1, 2, 3, 4, 5]"
      ]
     },
     "execution_count": 2,
     "metadata": {},
     "output_type": "execute_result"
    }
   ],
   "source": [
    "pdList.astype(\"int32\")\n",
    "print(pdList.dtype,end=\"\")\n",
    "pdList = pdList.to_list()\n",
    "pdList"
   ]
  },
  {
   "cell_type": "code",
   "execution_count": 3,
   "metadata": {},
   "outputs": [
    {
     "data": {
      "text/plain": [
       "0    False\n",
       "1    False\n",
       "2    False\n",
       "3    False\n",
       "4    False\n",
       "dtype: bool"
      ]
     },
     "execution_count": 3,
     "metadata": {},
     "output_type": "execute_result"
    }
   ],
   "source": [
    "ser1 = pd.Series([1,2,3,4,5])\n",
    "ser2 = pd.Series([6,7,8,9,10])\n",
    "ser1 >= ser2"
   ]
  },
  {
   "cell_type": "code",
   "execution_count": 4,
   "metadata": {},
   "outputs": [
    {
     "data": {
      "text/plain": [
       "dtype('int32')"
      ]
     },
     "execution_count": 4,
     "metadata": {},
     "output_type": "execute_result"
    }
   ],
   "source": [
    "ser1 = ser1.astype('int32')\n",
    "ser1.dtype"
   ]
  },
  {
   "cell_type": "code",
   "execution_count": 5,
   "metadata": {},
   "outputs": [],
   "source": [
    "df = pd.DataFrame({'name': ['Anastasia', 'Dima', 'Katherine', 'James', 'Emily', 'Michael',\n",
    " 'Matthew', 'Laura', 'Kevin', 'Jonas'],\n",
    " 'score': [12.5, 9, 16.5, np.nan, 9, 20, 14.5, np.nan, 8, 19],\n",
    " 'attempts': [1, 3, 2, 3, 2, 3, 1, 1, 2, 1],\n",
    " 'qualify': ['yes', 'no', 'yes', 'no', 'no', 'yes', 'yes', 'no', 'no', 'yes'],},\n",
    " index = ['a', 'b', 'c', 'd', 'e', 'f', 'g', 'h', 'i', 'j'])"
   ]
  },
  {
   "cell_type": "code",
   "execution_count": 6,
   "metadata": {},
   "outputs": [
    {
     "data": {
      "text/html": [
       "<div>\n",
       "<style scoped>\n",
       "    .dataframe tbody tr th:only-of-type {\n",
       "        vertical-align: middle;\n",
       "    }\n",
       "\n",
       "    .dataframe tbody tr th {\n",
       "        vertical-align: top;\n",
       "    }\n",
       "\n",
       "    .dataframe thead th {\n",
       "        text-align: right;\n",
       "    }\n",
       "</style>\n",
       "<table border=\"1\" class=\"dataframe\">\n",
       "  <thead>\n",
       "    <tr style=\"text-align: right;\">\n",
       "      <th></th>\n",
       "      <th>name</th>\n",
       "      <th>score</th>\n",
       "      <th>attempts</th>\n",
       "      <th>qualify</th>\n",
       "    </tr>\n",
       "  </thead>\n",
       "  <tbody>\n",
       "    <tr>\n",
       "      <th>a</th>\n",
       "      <td>Anastasia</td>\n",
       "      <td>12.5</td>\n",
       "      <td>1</td>\n",
       "      <td>yes</td>\n",
       "    </tr>\n",
       "    <tr>\n",
       "      <th>b</th>\n",
       "      <td>Dima</td>\n",
       "      <td>9.0</td>\n",
       "      <td>3</td>\n",
       "      <td>no</td>\n",
       "    </tr>\n",
       "    <tr>\n",
       "      <th>c</th>\n",
       "      <td>Katherine</td>\n",
       "      <td>16.5</td>\n",
       "      <td>2</td>\n",
       "      <td>yes</td>\n",
       "    </tr>\n",
       "  </tbody>\n",
       "</table>\n",
       "</div>"
      ],
      "text/plain": [
       "        name  score  attempts qualify\n",
       "a  Anastasia   12.5         1     yes\n",
       "b       Dima    9.0         3      no\n",
       "c  Katherine   16.5         2     yes"
      ]
     },
     "execution_count": 6,
     "metadata": {},
     "output_type": "execute_result"
    }
   ],
   "source": [
    "df.head(3)"
   ]
  },
  {
   "cell_type": "code",
   "execution_count": 10,
   "metadata": {},
   "outputs": [],
   "source": [
    "df = pd.DataFrame({\n",
    "    'school_code': ['s001','s002','s003','s001','s002','s004'],\n",
    "    'class': ['V', 'V', 'VI', 'VI', 'V', 'VI'],\n",
    "    'name': ['Alberto Franco','Gino Mcneill','Ryan Parkes', 'Eesha Hinton', 'Gino Mcneill', 'David Parkes'],\n",
    "    'date_Of_Birth': ['15/05/2002','17/05/2002','16/02/1999','25/09/1998','11/05/2002','15/09/1997'],\n",
    "    'weight': [35, 32, 33, 30, 31, 32],\n",
    "    'address': ['street1', 'street2', 'street3', 'street1', 'street2', 'street4'],\n",
    "    't_id':['t1', 't2', 't3', 't4', 't5', 't6']})"
   ]
  },
  {
   "cell_type": "code",
   "execution_count": 11,
   "metadata": {},
   "outputs": [
    {
     "data": {
      "text/html": [
       "<div>\n",
       "<style scoped>\n",
       "    .dataframe tbody tr th:only-of-type {\n",
       "        vertical-align: middle;\n",
       "    }\n",
       "\n",
       "    .dataframe tbody tr th {\n",
       "        vertical-align: top;\n",
       "    }\n",
       "\n",
       "    .dataframe thead th {\n",
       "        text-align: right;\n",
       "    }\n",
       "</style>\n",
       "<table border=\"1\" class=\"dataframe\">\n",
       "  <thead>\n",
       "    <tr style=\"text-align: right;\">\n",
       "      <th></th>\n",
       "      <th>school_code</th>\n",
       "      <th>name</th>\n",
       "      <th>date_Of_Birth</th>\n",
       "      <th>weight</th>\n",
       "      <th>address</th>\n",
       "      <th>t_id</th>\n",
       "    </tr>\n",
       "    <tr>\n",
       "      <th>class</th>\n",
       "      <th></th>\n",
       "      <th></th>\n",
       "      <th></th>\n",
       "      <th></th>\n",
       "      <th></th>\n",
       "      <th></th>\n",
       "    </tr>\n",
       "  </thead>\n",
       "  <tbody>\n",
       "    <tr>\n",
       "      <th>V</th>\n",
       "      <td>s001</td>\n",
       "      <td>Alberto Franco</td>\n",
       "      <td>15/05/2002</td>\n",
       "      <td>35</td>\n",
       "      <td>street1</td>\n",
       "      <td>t1</td>\n",
       "    </tr>\n",
       "    <tr>\n",
       "      <th>V</th>\n",
       "      <td>s002</td>\n",
       "      <td>Gino Mcneill</td>\n",
       "      <td>17/05/2002</td>\n",
       "      <td>32</td>\n",
       "      <td>street2</td>\n",
       "      <td>t2</td>\n",
       "    </tr>\n",
       "    <tr>\n",
       "      <th>VI</th>\n",
       "      <td>s003</td>\n",
       "      <td>Ryan Parkes</td>\n",
       "      <td>16/02/1999</td>\n",
       "      <td>33</td>\n",
       "      <td>street3</td>\n",
       "      <td>t3</td>\n",
       "    </tr>\n",
       "    <tr>\n",
       "      <th>VI</th>\n",
       "      <td>s001</td>\n",
       "      <td>Eesha Hinton</td>\n",
       "      <td>25/09/1998</td>\n",
       "      <td>30</td>\n",
       "      <td>street1</td>\n",
       "      <td>t4</td>\n",
       "    </tr>\n",
       "    <tr>\n",
       "      <th>V</th>\n",
       "      <td>s002</td>\n",
       "      <td>Gino Mcneill</td>\n",
       "      <td>11/05/2002</td>\n",
       "      <td>31</td>\n",
       "      <td>street2</td>\n",
       "      <td>t5</td>\n",
       "    </tr>\n",
       "    <tr>\n",
       "      <th>VI</th>\n",
       "      <td>s004</td>\n",
       "      <td>David Parkes</td>\n",
       "      <td>15/09/1997</td>\n",
       "      <td>32</td>\n",
       "      <td>street4</td>\n",
       "      <td>t6</td>\n",
       "    </tr>\n",
       "  </tbody>\n",
       "</table>\n",
       "</div>"
      ],
      "text/plain": [
       "      school_code            name date_Of_Birth  weight  address t_id\n",
       "class                                                                \n",
       "V            s001  Alberto Franco    15/05/2002      35  street1   t1\n",
       "V            s002    Gino Mcneill    17/05/2002      32  street2   t2\n",
       "VI           s003     Ryan Parkes    16/02/1999      33  street3   t3\n",
       "VI           s001    Eesha Hinton    25/09/1998      30  street1   t4\n",
       "V            s002    Gino Mcneill    11/05/2002      31  street2   t5\n",
       "VI           s004    David Parkes    15/09/1997      32  street4   t6"
      ]
     },
     "execution_count": 11,
     "metadata": {},
     "output_type": "execute_result"
    }
   ],
   "source": [
    "df.set_index('class')"
   ]
  },
  {
   "cell_type": "code",
   "execution_count": 12,
   "metadata": {},
   "outputs": [
    {
     "data": {
      "text/html": [
       "<div>\n",
       "<style scoped>\n",
       "    .dataframe tbody tr th:only-of-type {\n",
       "        vertical-align: middle;\n",
       "    }\n",
       "\n",
       "    .dataframe tbody tr th {\n",
       "        vertical-align: top;\n",
       "    }\n",
       "\n",
       "    .dataframe thead th {\n",
       "        text-align: right;\n",
       "    }\n",
       "</style>\n",
       "<table border=\"1\" class=\"dataframe\">\n",
       "  <thead>\n",
       "    <tr style=\"text-align: right;\">\n",
       "      <th></th>\n",
       "      <th>index</th>\n",
       "      <th>school_code</th>\n",
       "      <th>class</th>\n",
       "      <th>name</th>\n",
       "      <th>date_Of_Birth</th>\n",
       "      <th>weight</th>\n",
       "      <th>address</th>\n",
       "      <th>t_id</th>\n",
       "    </tr>\n",
       "  </thead>\n",
       "  <tbody>\n",
       "    <tr>\n",
       "      <th>0</th>\n",
       "      <td>0</td>\n",
       "      <td>s001</td>\n",
       "      <td>V</td>\n",
       "      <td>Alberto Franco</td>\n",
       "      <td>15/05/2002</td>\n",
       "      <td>35</td>\n",
       "      <td>street1</td>\n",
       "      <td>t1</td>\n",
       "    </tr>\n",
       "    <tr>\n",
       "      <th>1</th>\n",
       "      <td>1</td>\n",
       "      <td>s002</td>\n",
       "      <td>V</td>\n",
       "      <td>Gino Mcneill</td>\n",
       "      <td>17/05/2002</td>\n",
       "      <td>32</td>\n",
       "      <td>street2</td>\n",
       "      <td>t2</td>\n",
       "    </tr>\n",
       "    <tr>\n",
       "      <th>2</th>\n",
       "      <td>2</td>\n",
       "      <td>s003</td>\n",
       "      <td>VI</td>\n",
       "      <td>Ryan Parkes</td>\n",
       "      <td>16/02/1999</td>\n",
       "      <td>33</td>\n",
       "      <td>street3</td>\n",
       "      <td>t3</td>\n",
       "    </tr>\n",
       "    <tr>\n",
       "      <th>3</th>\n",
       "      <td>3</td>\n",
       "      <td>s001</td>\n",
       "      <td>VI</td>\n",
       "      <td>Eesha Hinton</td>\n",
       "      <td>25/09/1998</td>\n",
       "      <td>30</td>\n",
       "      <td>street1</td>\n",
       "      <td>t4</td>\n",
       "    </tr>\n",
       "    <tr>\n",
       "      <th>4</th>\n",
       "      <td>4</td>\n",
       "      <td>s002</td>\n",
       "      <td>V</td>\n",
       "      <td>Gino Mcneill</td>\n",
       "      <td>11/05/2002</td>\n",
       "      <td>31</td>\n",
       "      <td>street2</td>\n",
       "      <td>t5</td>\n",
       "    </tr>\n",
       "    <tr>\n",
       "      <th>5</th>\n",
       "      <td>5</td>\n",
       "      <td>s004</td>\n",
       "      <td>VI</td>\n",
       "      <td>David Parkes</td>\n",
       "      <td>15/09/1997</td>\n",
       "      <td>32</td>\n",
       "      <td>street4</td>\n",
       "      <td>t6</td>\n",
       "    </tr>\n",
       "  </tbody>\n",
       "</table>\n",
       "</div>"
      ],
      "text/plain": [
       "   index school_code class            name date_Of_Birth  weight  address t_id\n",
       "0      0        s001     V  Alberto Franco    15/05/2002      35  street1   t1\n",
       "1      1        s002     V    Gino Mcneill    17/05/2002      32  street2   t2\n",
       "2      2        s003    VI     Ryan Parkes    16/02/1999      33  street3   t3\n",
       "3      3        s001    VI    Eesha Hinton    25/09/1998      30  street1   t4\n",
       "4      4        s002     V    Gino Mcneill    11/05/2002      31  street2   t5\n",
       "5      5        s004    VI    David Parkes    15/09/1997      32  street4   t6"
      ]
     },
     "execution_count": 12,
     "metadata": {},
     "output_type": "execute_result"
    }
   ],
   "source": [
    "df.reset_index()"
   ]
  },
  {
   "cell_type": "code",
   "execution_count": 15,
   "metadata": {},
   "outputs": [
    {
     "name": "stderr",
     "output_type": "stream",
     "text": [
      "/var/folders/vv/jrr00v852xj6f_6pp777r9zw0000gp/T/ipykernel_2859/3746784266.py:1: UserWarning: Parsing dates in DD/MM/YYYY format when dayfirst=False (the default) was specified. This may lead to inconsistently parsed dates! Specify a format to ensure consistent parsing.\n",
      "  df['date_Of_Birth'] = pd.to_datetime(df['date_Of_Birth'])\n"
     ]
    }
   ],
   "source": [
    "df['date_Of_Birth'] = pd.to_datetime(df['date_Of_Birth'])"
   ]
  },
  {
   "cell_type": "code",
   "execution_count": 16,
   "metadata": {},
   "outputs": [
    {
     "data": {
      "text/html": [
       "<div>\n",
       "<style scoped>\n",
       "    .dataframe tbody tr th:only-of-type {\n",
       "        vertical-align: middle;\n",
       "    }\n",
       "\n",
       "    .dataframe tbody tr th {\n",
       "        vertical-align: top;\n",
       "    }\n",
       "\n",
       "    .dataframe thead th {\n",
       "        text-align: right;\n",
       "    }\n",
       "</style>\n",
       "<table border=\"1\" class=\"dataframe\">\n",
       "  <thead>\n",
       "    <tr style=\"text-align: right;\">\n",
       "      <th></th>\n",
       "      <th>school_code</th>\n",
       "      <th>class</th>\n",
       "      <th>name</th>\n",
       "      <th>weight</th>\n",
       "      <th>address</th>\n",
       "      <th>t_id</th>\n",
       "    </tr>\n",
       "    <tr>\n",
       "      <th>date_Of_Birth</th>\n",
       "      <th></th>\n",
       "      <th></th>\n",
       "      <th></th>\n",
       "      <th></th>\n",
       "      <th></th>\n",
       "      <th></th>\n",
       "    </tr>\n",
       "  </thead>\n",
       "  <tbody>\n",
       "    <tr>\n",
       "      <th>2002-05-15</th>\n",
       "      <td>s001</td>\n",
       "      <td>V</td>\n",
       "      <td>Alberto Franco</td>\n",
       "      <td>35</td>\n",
       "      <td>street1</td>\n",
       "      <td>t1</td>\n",
       "    </tr>\n",
       "    <tr>\n",
       "      <th>2002-05-17</th>\n",
       "      <td>s002</td>\n",
       "      <td>V</td>\n",
       "      <td>Gino Mcneill</td>\n",
       "      <td>32</td>\n",
       "      <td>street2</td>\n",
       "      <td>t2</td>\n",
       "    </tr>\n",
       "    <tr>\n",
       "      <th>1999-02-16</th>\n",
       "      <td>s003</td>\n",
       "      <td>VI</td>\n",
       "      <td>Ryan Parkes</td>\n",
       "      <td>33</td>\n",
       "      <td>street3</td>\n",
       "      <td>t3</td>\n",
       "    </tr>\n",
       "    <tr>\n",
       "      <th>1998-09-25</th>\n",
       "      <td>s001</td>\n",
       "      <td>VI</td>\n",
       "      <td>Eesha Hinton</td>\n",
       "      <td>30</td>\n",
       "      <td>street1</td>\n",
       "      <td>t4</td>\n",
       "    </tr>\n",
       "    <tr>\n",
       "      <th>2002-11-05</th>\n",
       "      <td>s002</td>\n",
       "      <td>V</td>\n",
       "      <td>Gino Mcneill</td>\n",
       "      <td>31</td>\n",
       "      <td>street2</td>\n",
       "      <td>t5</td>\n",
       "    </tr>\n",
       "    <tr>\n",
       "      <th>1997-09-15</th>\n",
       "      <td>s004</td>\n",
       "      <td>VI</td>\n",
       "      <td>David Parkes</td>\n",
       "      <td>32</td>\n",
       "      <td>street4</td>\n",
       "      <td>t6</td>\n",
       "    </tr>\n",
       "  </tbody>\n",
       "</table>\n",
       "</div>"
      ],
      "text/plain": [
       "              school_code class            name  weight  address t_id\n",
       "date_Of_Birth                                                        \n",
       "2002-05-15           s001     V  Alberto Franco      35  street1   t1\n",
       "2002-05-17           s002     V    Gino Mcneill      32  street2   t2\n",
       "1999-02-16           s003    VI     Ryan Parkes      33  street3   t3\n",
       "1998-09-25           s001    VI    Eesha Hinton      30  street1   t4\n",
       "2002-11-05           s002     V    Gino Mcneill      31  street2   t5\n",
       "1997-09-15           s004    VI    David Parkes      32  street4   t6"
      ]
     },
     "execution_count": 16,
     "metadata": {},
     "output_type": "execute_result"
    }
   ],
   "source": [
    "df.set_index('date_Of_Birth')"
   ]
  },
  {
   "cell_type": "code",
   "execution_count": 17,
   "metadata": {},
   "outputs": [],
   "source": [
    "df.index.name = \"index\""
   ]
  },
  {
   "cell_type": "code",
   "execution_count": 18,
   "metadata": {},
   "outputs": [
    {
     "data": {
      "text/html": [
       "<div>\n",
       "<style scoped>\n",
       "    .dataframe tbody tr th:only-of-type {\n",
       "        vertical-align: middle;\n",
       "    }\n",
       "\n",
       "    .dataframe tbody tr th {\n",
       "        vertical-align: top;\n",
       "    }\n",
       "\n",
       "    .dataframe thead th {\n",
       "        text-align: right;\n",
       "    }\n",
       "</style>\n",
       "<table border=\"1\" class=\"dataframe\">\n",
       "  <thead>\n",
       "    <tr style=\"text-align: right;\">\n",
       "      <th></th>\n",
       "      <th>school_code</th>\n",
       "      <th>class</th>\n",
       "      <th>name</th>\n",
       "      <th>date_Of_Birth</th>\n",
       "      <th>weight</th>\n",
       "      <th>address</th>\n",
       "      <th>t_id</th>\n",
       "    </tr>\n",
       "    <tr>\n",
       "      <th>index</th>\n",
       "      <th></th>\n",
       "      <th></th>\n",
       "      <th></th>\n",
       "      <th></th>\n",
       "      <th></th>\n",
       "      <th></th>\n",
       "      <th></th>\n",
       "    </tr>\n",
       "  </thead>\n",
       "  <tbody>\n",
       "    <tr>\n",
       "      <th>0</th>\n",
       "      <td>s001</td>\n",
       "      <td>V</td>\n",
       "      <td>Alberto Franco</td>\n",
       "      <td>2002-05-15</td>\n",
       "      <td>35</td>\n",
       "      <td>street1</td>\n",
       "      <td>t1</td>\n",
       "    </tr>\n",
       "    <tr>\n",
       "      <th>1</th>\n",
       "      <td>s002</td>\n",
       "      <td>V</td>\n",
       "      <td>Gino Mcneill</td>\n",
       "      <td>2002-05-17</td>\n",
       "      <td>32</td>\n",
       "      <td>street2</td>\n",
       "      <td>t2</td>\n",
       "    </tr>\n",
       "    <tr>\n",
       "      <th>2</th>\n",
       "      <td>s003</td>\n",
       "      <td>VI</td>\n",
       "      <td>Ryan Parkes</td>\n",
       "      <td>1999-02-16</td>\n",
       "      <td>33</td>\n",
       "      <td>street3</td>\n",
       "      <td>t3</td>\n",
       "    </tr>\n",
       "    <tr>\n",
       "      <th>3</th>\n",
       "      <td>s001</td>\n",
       "      <td>VI</td>\n",
       "      <td>Eesha Hinton</td>\n",
       "      <td>1998-09-25</td>\n",
       "      <td>30</td>\n",
       "      <td>street1</td>\n",
       "      <td>t4</td>\n",
       "    </tr>\n",
       "    <tr>\n",
       "      <th>4</th>\n",
       "      <td>s002</td>\n",
       "      <td>V</td>\n",
       "      <td>Gino Mcneill</td>\n",
       "      <td>2002-11-05</td>\n",
       "      <td>31</td>\n",
       "      <td>street2</td>\n",
       "      <td>t5</td>\n",
       "    </tr>\n",
       "    <tr>\n",
       "      <th>5</th>\n",
       "      <td>s004</td>\n",
       "      <td>VI</td>\n",
       "      <td>David Parkes</td>\n",
       "      <td>1997-09-15</td>\n",
       "      <td>32</td>\n",
       "      <td>street4</td>\n",
       "      <td>t6</td>\n",
       "    </tr>\n",
       "  </tbody>\n",
       "</table>\n",
       "</div>"
      ],
      "text/plain": [
       "      school_code class            name date_Of_Birth  weight  address t_id\n",
       "index                                                                      \n",
       "0            s001     V  Alberto Franco    2002-05-15      35  street1   t1\n",
       "1            s002     V    Gino Mcneill    2002-05-17      32  street2   t2\n",
       "2            s003    VI     Ryan Parkes    1999-02-16      33  street3   t3\n",
       "3            s001    VI    Eesha Hinton    1998-09-25      30  street1   t4\n",
       "4            s002     V    Gino Mcneill    2002-11-05      31  street2   t5\n",
       "5            s004    VI    David Parkes    1997-09-15      32  street4   t6"
      ]
     },
     "execution_count": 18,
     "metadata": {},
     "output_type": "execute_result"
    }
   ],
   "source": [
    "df"
   ]
  },
  {
   "cell_type": "code",
   "execution_count": 19,
   "metadata": {},
   "outputs": [
    {
     "data": {
      "text/plain": [
       "school_code                     s001\n",
       "class                              V\n",
       "name                  Alberto Franco\n",
       "date_Of_Birth    2002-05-15 00:00:00\n",
       "weight                            35\n",
       "address                      street1\n",
       "t_id                              t1\n",
       "Name: 0, dtype: object"
      ]
     },
     "execution_count": 19,
     "metadata": {},
     "output_type": "execute_result"
    }
   ],
   "source": [
    "df.loc[0]"
   ]
  },
  {
   "cell_type": "code",
   "execution_count": null,
   "metadata": {},
   "outputs": [],
   "source": []
  }
 ],
 "metadata": {
  "kernelspec": {
   "display_name": "Python 3.8.1 64-bit",
   "language": "python",
   "name": "python3"
  },
  "language_info": {
   "codemirror_mode": {
    "name": "ipython",
    "version": 3
   },
   "file_extension": ".py",
   "mimetype": "text/x-python",
   "name": "python",
   "nbconvert_exporter": "python",
   "pygments_lexer": "ipython3",
   "version": "3.8.1"
  },
  "orig_nbformat": 4,
  "vscode": {
   "interpreter": {
    "hash": "949777d72b0d2535278d3dc13498b2535136f6dfe0678499012e853ee9abcab1"
   }
  }
 },
 "nbformat": 4,
 "nbformat_minor": 2
}
