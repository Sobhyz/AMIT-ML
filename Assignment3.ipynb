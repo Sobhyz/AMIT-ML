{
 "cells": [
  {
   "cell_type": "code",
   "execution_count": 1,
   "id": "e0365f2d",
   "metadata": {},
   "outputs": [
    {
     "name": "stdout",
     "output_type": "stream",
     "text": [
      "5\n",
      "0\n",
      "1\n",
      "1\n",
      "2\n",
      "3\n",
      "5\n"
     ]
    }
   ],
   "source": [
    "def feb(n,curr=1,prev=0):\n",
    "    print(prev)\n",
    "    if(n<=0):\n",
    "        return\n",
    "    feb(n-1,curr+prev,curr)\n",
    "feb(eval(input()))"
   ]
  },
  {
   "cell_type": "code",
   "execution_count": 2,
   "id": "7d923ac7",
   "metadata": {},
   "outputs": [
    {
     "name": "stdout",
     "output_type": "stream",
     "text": [
      "ahmed sobhy ahmed sobh\n",
      "{'ahmed': 2, 'sobhy': 1, 'sobh': 1}\n",
      "3\n"
     ]
    }
   ],
   "source": [
    "uni = set()\n",
    "stt = input()\n",
    "stt = stt.split()\n",
    "dic = dict()\n",
    "for st in stt:\n",
    "    dic[st]=0\n",
    "for st in stt:\n",
    "    uni.add(st)\n",
    "    dic[st]+=1\n",
    "print(dic)\n",
    "print(len(uni))"
   ]
  },
  {
   "cell_type": "code",
   "execution_count": 3,
   "id": "c0a21156",
   "metadata": {},
   "outputs": [
    {
     "name": "stdout",
     "output_type": "stream",
     "text": [
      "[1,2,3,4,5]\n",
      "5\n",
      "1 4\n",
      "2 3\n"
     ]
    }
   ],
   "source": [
    "lis = eval(input())\n",
    "target = eval(input())\n",
    "for i in range(len(lis)):\n",
    "    for j in range(i,len(lis)):\n",
    "        if lis[i]+lis[j]==target:\n",
    "            print(lis[i],lis[j])"
   ]
  },
  {
   "cell_type": "code",
   "execution_count": 4,
   "id": "e7182eb9",
   "metadata": {},
   "outputs": [
    {
     "name": "stdout",
     "output_type": "stream",
     "text": [
      "[1,2,3,4,5]\n",
      "20\n"
     ]
    }
   ],
   "source": [
    "lis = eval(input())\n",
    "lis.sort(reverse=True)\n",
    "print(lis[0]*lis[1])"
   ]
  },
  {
   "cell_type": "code",
   "execution_count": 5,
   "id": "38ba11c1",
   "metadata": {},
   "outputs": [
    {
     "name": "stdout",
     "output_type": "stream",
     "text": [
      "1e9+7\n",
      "True\n"
     ]
    }
   ],
   "source": [
    "n = eval(input())\n",
    "def prime(num):\n",
    "    if(num<=1):\n",
    "        return False\n",
    "    i=2\n",
    "    while i*i<=num:\n",
    "        if num%i==0:\n",
    "            return False\n",
    "        i+=1\n",
    "    return True\n",
    "print(prime(n))"
   ]
  },
  {
   "cell_type": "code",
   "execution_count": 6,
   "id": "ea99a2f0",
   "metadata": {},
   "outputs": [
    {
     "name": "stdout",
     "output_type": "stream",
     "text": [
      "[1,2,3,4,5]\n",
      "[2, 4]\n"
     ]
    }
   ],
   "source": [
    "lis = eval(input())\n",
    "print(list(filter(lambda x: not x%2,lis)))"
   ]
  },
  {
   "cell_type": "code",
   "execution_count": 7,
   "id": "793e821a",
   "metadata": {},
   "outputs": [
    {
     "name": "stdout",
     "output_type": "stream",
     "text": [
      "[\"ahmed\",\"sobhy\"]\n",
      "['sobhy', 'ahmed']\n"
     ]
    }
   ],
   "source": [
    "lis = eval(input())\n",
    "print(lis[::-1])"
   ]
  },
  {
   "cell_type": "code",
   "execution_count": 8,
   "id": "1f451269",
   "metadata": {},
   "outputs": [
    {
     "name": "stdout",
     "output_type": "stream",
     "text": [
      "1221\n",
      "True\n"
     ]
    }
   ],
   "source": [
    "num = eval(input())\n",
    "print(str(num)[::-1] == str(num))"
   ]
  },
  {
   "cell_type": "code",
   "execution_count": 9,
   "id": "238c35b9",
   "metadata": {},
   "outputs": [
    {
     "name": "stdout",
     "output_type": "stream",
     "text": [
      "abba\n",
      "True\n"
     ]
    }
   ],
   "source": [
    "stt = input()\n",
    "print(stt[::-1]==stt)"
   ]
  },
  {
   "cell_type": "code",
   "execution_count": 10,
   "id": "fca30552",
   "metadata": {},
   "outputs": [
    {
     "name": "stdout",
     "output_type": "stream",
     "text": [
      "[1, 4, 9, 16, 25, 36, 49, 64, 81, 100, 121, 144, 169, 196, 225, 256, 289, 324, 361, 400, 441, 484, 529, 576, 625, 676, 729, 784, 841, 900]\n"
     ]
    }
   ],
   "source": [
    "lis = [x for x in range(1,31)]\n",
    "lis = list(map(lambda x: x*x, lis))\n",
    "print(lis)"
   ]
  },
  {
   "cell_type": "code",
   "execution_count": 11,
   "id": "0e4ce47c",
   "metadata": {},
   "outputs": [
    {
     "name": "stdout",
     "output_type": "stream",
     "text": [
      "[1,2,3]\n",
      "[2, 1, 3]\n",
      "[1, 2, 3]\n",
      "[1, 3, 2]\n",
      "[1, 2, 3]\n",
      "[2, 1, 3]\n",
      "[2, 3, 1]\n",
      "[2, 3, 1]\n",
      "[3, 2, 1]\n",
      "[3, 1, 2]\n"
     ]
    }
   ],
   "source": [
    "lis = eval(input())\n",
    "st =set()\n",
    "def permute(size,liss):\n",
    "    if size==len(liss):\n",
    "        return\n",
    "    if size == len(liss)-1:\n",
    "        print(liss)\n",
    "        return\n",
    "    for i in range(len(liss)):\n",
    "        liss[i],liss[size] = liss[size],liss[i]\n",
    "        permute(size+1,liss)\n",
    "        liss[i],liss[size] = liss[size],liss[i]\n",
    "permute(0,lis)\n",
    "        "
   ]
  },
  {
   "cell_type": "code",
   "execution_count": 12,
   "id": "05d334b1",
   "metadata": {},
   "outputs": [
    {
     "name": "stdout",
     "output_type": "stream",
     "text": [
      "yupp\n"
     ]
    }
   ],
   "source": [
    "def fun():\n",
    "    def funn():\n",
    "        print(\"yupp\")\n",
    "    funn()\n",
    "fun()"
   ]
  },
  {
   "cell_type": "code",
   "execution_count": null,
   "id": "2e22a157",
   "metadata": {},
   "outputs": [],
   "source": []
  }
 ],
 "metadata": {
  "kernelspec": {
   "display_name": "Python 3",
   "language": "python",
   "name": "python3"
  },
  "language_info": {
   "codemirror_mode": {
    "name": "ipython",
    "version": 3
   },
   "file_extension": ".py",
   "mimetype": "text/x-python",
   "name": "python",
   "nbconvert_exporter": "python",
   "pygments_lexer": "ipython3",
   "version": "3.8.8"
  }
 },
 "nbformat": 4,
 "nbformat_minor": 5
}
