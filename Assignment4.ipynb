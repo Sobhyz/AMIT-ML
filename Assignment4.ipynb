{
 "cells": [
  {
   "cell_type": "code",
   "execution_count": 1,
   "metadata": {},
   "outputs": [],
   "source": [
    "class Rectange:\n",
    "    def __init__(self,width,length) -> None:\n",
    "        self.width = width\n",
    "        self.length = length\n",
    "    def Perimeter(self):\n",
    "        return (self.width + self.length)*2\n",
    "    def Area(self):\n",
    "        return self.width * self.length\n",
    "    def Display(self):\n",
    "        return f\"length: {self.length}\\nwidth: {self.width}\\nperimeter: {self.Perimeter()}\\narea: {self.Area()}\""
   ]
  },
  {
   "cell_type": "code",
   "execution_count": 2,
   "metadata": {},
   "outputs": [],
   "source": [
    "class Parallelepipede(Rectange):\n",
    "    def __init__(self, width, length,height) -> None:\n",
    "        super().__init__(width, length)\n",
    "        self.height = height\n",
    "    def Volume(self):\n",
    "        return self.Area() * self.height"
   ]
  },
  {
   "cell_type": "code",
   "execution_count": 3,
   "metadata": {},
   "outputs": [
    {
     "name": "stdout",
     "output_type": "stream",
     "text": [
      "length: 4\n",
      "width: 5\n",
      "perimeter: 18\n",
      "area: 20 length: 4\n",
      "width: 5\n",
      "perimeter: 18\n",
      "area: 20 120\n"
     ]
    }
   ],
   "source": [
    "obj1 = Rectange(5,4)\n",
    "obj2 = Parallelepipede(5,4,6)\n",
    "print(obj1.Display(),obj2.Display(),obj2.Volume())"
   ]
  },
  {
   "cell_type": "code",
   "execution_count": 4,
   "metadata": {},
   "outputs": [],
   "source": [
    "class Person:\n",
    "    def __init__(self,name,age) -> None:\n",
    "        self.name = name\n",
    "        self.age = age\n",
    "    def Display(self):\n",
    "        return f\"name: {self.name}\\nage: {self.age}\\n\""
   ]
  },
  {
   "cell_type": "code",
   "execution_count": 5,
   "metadata": {},
   "outputs": [],
   "source": [
    "class Student(Person):\n",
    "    def __init__(self, name, age,section) -> None:\n",
    "        super().__init__(name, age)\n",
    "        self.section = section\n",
    "    def displayStudent(self):\n",
    "        return self.Display() + f\"section: {self.section}\"\n"
   ]
  },
  {
   "cell_type": "code",
   "execution_count": 7,
   "metadata": {},
   "outputs": [
    {
     "name": "stdout",
     "output_type": "stream",
     "text": [
      "name: a\n",
      "age: b\n",
      "section: c\n"
     ]
    }
   ],
   "source": [
    "obj3  = Student(\"a\",\"b\",\"c\")\n",
    "print(obj3.displayStudent())"
   ]
  },
  {
   "cell_type": "code",
   "execution_count": 10,
   "metadata": {},
   "outputs": [],
   "source": [
    "class Computation:\n",
    "    def __init__(self) -> None:\n",
    "        pass\n",
    "    @classmethod\n",
    "    def factorial(cls,n):\n",
    "        ans = 1\n",
    "        for i in range(1,n+1):\n",
    "            ans*=i\n",
    "        return ans\n",
    "    @classmethod\n",
    "    def sum(cls,n):\n",
    "        return (n*(n+1))/2\n",
    "    @classmethod\n",
    "    def testPrim(cls,n):\n",
    "        if(n<=1):\n",
    "            return False\n",
    "        i =2 \n",
    "        while i*i<=n:\n",
    "            if n%i==0:\n",
    "                return False\n",
    "        return True\n",
    "    @classmethod\n",
    "    def testPrimes(cls,a,b):\n",
    "        from math import gcd\n",
    "        if gcd(a,b)==1:\n",
    "            return True\n",
    "        return False\n",
    "    @classmethod\n",
    "    def tableMult(cls,n):\n",
    "        for i in range(1,10):\n",
    "            print(f\"{i} * {n} = {i*n}\")\n",
    "    @classmethod\n",
    "    def allTablesMult(cls,):\n",
    "        for i in range(1,10):\n",
    "            Computation.tableMult(i)\n",
    "    @classmethod\n",
    "    def listDiv(cls,n):\n",
    "        Ldiv = []\n",
    "        i=1\n",
    "        while i*i<=n:\n",
    "            if i*i==n:\n",
    "                Ldiv.append(i)\n",
    "            elif n%i==0:\n",
    "                Ldiv.append(i)\n",
    "                Ldiv.append(n/i)\n",
    "            i+=1\n",
    "        return Ldiv\n",
    "    @classmethod\n",
    "    def listDivPrimt(cls,n):\n",
    "        p=2\n",
    "        i=2\n",
    "        Ldiv = []\n",
    "        while i*i<=n:\n",
    "            c=0\n",
    "            while n%i==0:\n",
    "                c+=1\n",
    "                n/=i\n",
    "            if c>0:\n",
    "                Ldiv.append(i)\n",
    "            i+=1\n",
    "        if n>1:\n",
    "            Ldiv.append(n)\n",
    "\n",
    "        return Ldiv\n",
    "\n",
    "    "
   ]
  },
  {
   "cell_type": "code",
   "execution_count": 13,
   "metadata": {},
   "outputs": [
    {
     "name": "stdout",
     "output_type": "stream",
     "text": [
      "[2, 3, 11.0]\n",
      "1 * 1 = 1\n",
      "2 * 1 = 2\n",
      "3 * 1 = 3\n",
      "4 * 1 = 4\n",
      "5 * 1 = 5\n",
      "6 * 1 = 6\n",
      "7 * 1 = 7\n",
      "8 * 1 = 8\n",
      "9 * 1 = 9\n",
      "1 * 2 = 2\n",
      "2 * 2 = 4\n",
      "3 * 2 = 6\n",
      "4 * 2 = 8\n",
      "5 * 2 = 10\n",
      "6 * 2 = 12\n",
      "7 * 2 = 14\n",
      "8 * 2 = 16\n",
      "9 * 2 = 18\n",
      "1 * 3 = 3\n",
      "2 * 3 = 6\n",
      "3 * 3 = 9\n",
      "4 * 3 = 12\n",
      "5 * 3 = 15\n",
      "6 * 3 = 18\n",
      "7 * 3 = 21\n",
      "8 * 3 = 24\n",
      "9 * 3 = 27\n",
      "1 * 4 = 4\n",
      "2 * 4 = 8\n",
      "3 * 4 = 12\n",
      "4 * 4 = 16\n",
      "5 * 4 = 20\n",
      "6 * 4 = 24\n",
      "7 * 4 = 28\n",
      "8 * 4 = 32\n",
      "9 * 4 = 36\n",
      "1 * 5 = 5\n",
      "2 * 5 = 10\n",
      "3 * 5 = 15\n",
      "4 * 5 = 20\n",
      "5 * 5 = 25\n",
      "6 * 5 = 30\n",
      "7 * 5 = 35\n",
      "8 * 5 = 40\n",
      "9 * 5 = 45\n",
      "1 * 6 = 6\n",
      "2 * 6 = 12\n",
      "3 * 6 = 18\n",
      "4 * 6 = 24\n",
      "5 * 6 = 30\n",
      "6 * 6 = 36\n",
      "7 * 6 = 42\n",
      "8 * 6 = 48\n",
      "9 * 6 = 54\n",
      "1 * 7 = 7\n",
      "2 * 7 = 14\n",
      "3 * 7 = 21\n",
      "4 * 7 = 28\n",
      "5 * 7 = 35\n",
      "6 * 7 = 42\n",
      "7 * 7 = 49\n",
      "8 * 7 = 56\n",
      "9 * 7 = 63\n",
      "1 * 8 = 8\n",
      "2 * 8 = 16\n",
      "3 * 8 = 24\n",
      "4 * 8 = 32\n",
      "5 * 8 = 40\n",
      "6 * 8 = 48\n",
      "7 * 8 = 56\n",
      "8 * 8 = 64\n",
      "9 * 8 = 72\n",
      "1 * 9 = 9\n",
      "2 * 9 = 18\n",
      "3 * 9 = 27\n",
      "4 * 9 = 36\n",
      "5 * 9 = 45\n",
      "6 * 9 = 54\n",
      "7 * 9 = 63\n",
      "8 * 9 = 72\n",
      "9 * 9 = 81\n",
      "None\n"
     ]
    }
   ],
   "source": [
    "comp = Computation()\n",
    "print(comp.listDivPrimt(66))\n",
    "print(comp.allTablesMult())"
   ]
  },
  {
   "cell_type": "code",
   "execution_count": 24,
   "metadata": {},
   "outputs": [
    {
     "name": "stdout",
     "output_type": "stream",
     "text": [
      "2\n"
     ]
    }
   ],
   "source": [
    "st1 = input()\n",
    "st2 = input()\n",
    "mem = []\n",
    "for i in range(len(st1)):\n",
    "    tmp = [0 for j in range(len(st2))]\n",
    "    mem.append(tmp)\n",
    "def lcs(i=0,j=0):\n",
    "    if i==len(st1) or j==len(st2):\n",
    "        return 0\n",
    "    if mem[i][j] != 0:\n",
    "        return mem[i][j]\n",
    "    if st1[i]==st2[j]:\n",
    "        mem[i][j] = lcs(i+1,j+1)+1\n",
    "        return mem[i][j]\n",
    "    mem[i][j]=max([lcs(i+1,j),lcs(i,j+1)])\n",
    "    return mem[i][j]\n",
    "print(lcs())\n",
    "    "
   ]
  },
  {
   "cell_type": "code",
   "execution_count": null,
   "metadata": {},
   "outputs": [],
   "source": []
  }
 ],
 "metadata": {
  "kernelspec": {
   "display_name": "Python 3.8.1 64-bit",
   "language": "python",
   "name": "python3"
  },
  "language_info": {
   "codemirror_mode": {
    "name": "ipython",
    "version": 3
   },
   "file_extension": ".py",
   "mimetype": "text/x-python",
   "name": "python",
   "nbconvert_exporter": "python",
   "pygments_lexer": "ipython3",
   "version": "3.8.1"
  },
  "orig_nbformat": 4,
  "vscode": {
   "interpreter": {
    "hash": "949777d72b0d2535278d3dc13498b2535136f6dfe0678499012e853ee9abcab1"
   }
  }
 },
 "nbformat": 4,
 "nbformat_minor": 2
}
